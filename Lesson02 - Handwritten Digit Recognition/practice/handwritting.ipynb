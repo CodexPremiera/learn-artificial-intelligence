{
 "cells": [
  {
   "metadata": {},
   "cell_type": "markdown",
   "source": [
    "# Handwritten Digit Recognition using MNIST\n",
    "\n",
    "This project aims to build a simple neural network to recognize handwritten digits using the MNIST dataset.  \n",
    "MNIST is a widely used dataset in machine learning, containing 60,000 training images and 10,000 test images of handwritten digits (0-9).  \n",
    "\n",
    "### **Objectives:**\n",
    "✅ Load and preprocess the MNIST dataset  \n",
    "✅ Build a neural network model using TensorFlow and Keras  \n",
    "✅ Train the model on handwritten digits  \n",
    "✅ Evaluate its performance on unseen test data  \n",
    "✅ Make predictions on new handwritten digits  \n"
   ],
   "id": "1e63e00b7d5610d"
  },
  {
   "cell_type": "code",
   "id": "initial_id",
   "metadata": {
    "collapsed": true,
    "ExecuteTime": {
     "end_time": "2025-02-13T04:08:31.495834Z",
     "start_time": "2025-02-13T04:06:37.624260Z"
    }
   },
   "source": [
    "import tensorflow as tf\n",
    "\n",
    "from tensorflow import keras\n",
    "from tensorflow.keras.layers import Dropout\n",
    "\n",
    "import numpy as np\n",
    "import matplotlib.pyplot as plt"
   ],
   "outputs": [],
   "execution_count": 1
  },
  {
   "metadata": {},
   "cell_type": "markdown",
   "source": [
    "## Loading the MNIST Dataset\n",
    "\n",
    "The MNIST dataset consists of grayscale images of handwritten digits, each of size **28x28 pixels**.  \n",
    "It is preloaded in TensorFlow/Keras and can be accessed using `keras.datasets.mnist`.  \n",
    "\n",
    "### **Dataset Structure:**\n",
    "- `train_images`: A NumPy array of shape **(60000, 28, 28)** containing **60,000 training images**.\n",
    "- `train_labels`: A NumPy array of shape **(60000,)** containing labels (**digits 0-9**) for training images.\n",
    "- `test_images`: A NumPy array of shape **(10000, 28, 28)** containing **10,000 test images**.\n",
    "- `test_labels`: A NumPy array of shape **(10000,)** containing labels for the test images.\n"
   ],
   "id": "1e3ea47ea656c182"
  },
  {
   "metadata": {
    "ExecuteTime": {
     "end_time": "2025-02-13T04:08:31.855305Z",
     "start_time": "2025-02-13T04:08:31.497895Z"
    }
   },
   "cell_type": "code",
   "source": [
    "# Load the MNIST Dataset\n",
    "mnist = keras.datasets.mnist\n",
    "(x_train, y_train), (x_test, y_test) = mnist.load_data()"
   ],
   "id": "cb3c4ff4a16e8af8",
   "outputs": [],
   "execution_count": 2
  },
  {
   "metadata": {},
   "cell_type": "markdown",
   "source": [
    "## **Normalization of Pixels**\n",
    "Neural networks perform better when input values are in a **small, consistent range**.  \n",
    "Since MNIST images have pixel values between **0 and 255**, we normalize them by dividing by **255.0**, scaling them to the range **[0,1]**:\n",
    "\n",
    "Example:\n",
    "- A pixel value of **0** (black) becomes **0.0**  \n",
    "- A pixel value of **128** (gray) becomes **0.502**  \n",
    "- A pixel value of **255** (white) becomes **1.0**  \n",
    "\n",
    "**Why Normalize?**\n",
    "\n",
    "✅ **Speeds up training** by making optimization more efficient  \n",
    "✅ **Prevents numerical issues** (e.g., large weight updates, exploding gradients)  \n",
    "✅ **Improves accuracy** by ensuring stable learning  \n",
    "✅ **Helps activation functions** (e.g., ReLU, Sigmoid) work effectively  "
   ],
   "id": "fe8986e7aea9aa7f"
  },
  {
   "metadata": {
    "ExecuteTime": {
     "end_time": "2025-02-13T04:08:32.104023Z",
     "start_time": "2025-02-13T04:08:31.857045Z"
    }
   },
   "cell_type": "code",
   "source": [
    "# Normalize pixels for better training\n",
    "x_train, x_test = x_train / 255.0, x_test / 255.0"
   ],
   "id": "a27e4371490effa2",
   "outputs": [],
   "execution_count": 3
  },
  {
   "metadata": {},
   "cell_type": "markdown",
   "source": [
    "## Building the Neural Network Model  \n",
    "\n",
    "To recognize handwritten digits, we need a neural network that can process the **28x28 pixel images** and classify them into one of **10 digits (0-9)**.  \n",
    "\n",
    "### **Model Architecture**  \n",
    "Our model is a **feedforward neural network (fully connected layers)** built using Keras' `Sequential` API:  \n",
    "\n",
    "#### Flatten Layer:\n",
    "   - Converts the **28x28 image** into a **1D array of 784 values** (since `28 × 28 = 784`).  \n",
    "   - This prepares the data for the dense (fully connected) layers.  \n",
    "\n",
    "#### Hidden Dense Layer: \n",
    "   - Contains **128 neurons** with **ReLU (Rectified Linear Unit)** activation.  \n",
    "   - ReLU introduces non-linearity, helping the model learn complex patterns.  \n",
    "\n",
    "#### Output Layer:\n",
    "   - Contains **10 neurons**, one for each digit (0-9).  \n",
    "   - Uses **Softmax activation**, which outputs probabilities for each class.  \n"
   ],
   "id": "b81dde22385d5a07"
  },
  {
   "metadata": {
    "ExecuteTime": {
     "end_time": "2025-02-13T04:08:36.550873Z",
     "start_time": "2025-02-13T04:08:32.106632Z"
    }
   },
   "cell_type": "code",
   "source": [
    "# Build the model\n",
    "model = keras.Sequential([\n",
    "    \n",
    "    # Add the layers\n",
    "    \n",
    "    # flatten the 28x28 image\n",
    "    keras.layers.Flatten(input_shape=(28,28)),\n",
    "    \n",
    "    # hidden layer with 128 neurons\n",
    "    keras.layers.Dense(128, activation='relu'), \n",
    "    \n",
    "    # dropout to randomly turn off 20% of neurons during training\n",
    "    Dropout(0.2),\n",
    "    \n",
    "    # output layer with 10 neurons, one for each digit\n",
    "    keras.layers.Dense(10, activation='softmax')\n",
    "])"
   ],
   "id": "da0ec47e3396ea06",
   "outputs": [
    {
     "name": "stderr",
     "output_type": "stream",
     "text": [
      "D:\\PremieraAlpha\\College\\3rd_Year-Second Semester\\CS346 F2 Intelligent Systems 2\\Learn Artificial Intelligence\\myenv\\lib\\site-packages\\keras\\src\\layers\\reshaping\\flatten.py:37: UserWarning: Do not pass an `input_shape`/`input_dim` argument to a layer. When using Sequential models, prefer using an `Input(shape)` object as the first layer in the model instead.\n",
      "  super().__init__(**kwargs)\n"
     ]
    }
   ],
   "execution_count": 4
  },
  {
   "metadata": {},
   "cell_type": "markdown",
   "source": [
    "## Model Compilation\n",
    "\n",
    "Before training, we need to **compile** the model, which involves configuring how it learns. Compilation defines three key components:  \n",
    "\n",
    "1. **Optimizer (`adam`)** – Determines how the model updates its weights.  \n",
    "2. **Loss Function (`sparse_categorical_crossentropy`)** – Measures the error in predictions.  \n",
    "3. **Metrics (`accuracy`)** – Evaluates model performance during training.  \n",
    "\n",
    "\n",
    "### **Why Sparse Categorical Crossentropy as the Loss Function?**  \n",
    "Since MNIST is a **multi-class classification problem** (digits 0-9), we use **cross-entropy loss**, which measures how well the predicted probabilities match the actual labels.  \n",
    "- **`sparse_categorical_crossentropy`** is used because our labels are integers (e.g., `0, 1, 2, ...`).  \n",
    "- If labels were **one-hot encoded**, we would use `categorical_crossentropy` instead."
   ],
   "id": "ea2af24ec2568e1f"
  },
  {
   "metadata": {
    "ExecuteTime": {
     "end_time": "2025-02-13T04:08:36.596738Z",
     "start_time": "2025-02-13T04:08:36.559101Z"
    }
   },
   "cell_type": "code",
   "source": [
    "# Compile the model\n",
    "model.compile(optimizer='adam',\n",
    "              loss='sparse_categorical_crossentropy',\n",
    "              metrics=['accuracy'])"
   ],
   "id": "ae41f145464cdcec",
   "outputs": [],
   "execution_count": 5
  },
  {
   "metadata": {},
   "cell_type": "markdown",
   "source": [
    "## Train and Evaluate the Model\n",
    "\n",
    "We will train our model through 10 epochs and evaluate it accordingly."
   ],
   "id": "1971aa73fc0af2e8"
  },
  {
   "metadata": {
    "ExecuteTime": {
     "end_time": "2025-02-13T04:09:57.041314Z",
     "start_time": "2025-02-13T04:08:36.598252Z"
    }
   },
   "cell_type": "code",
   "source": [
    "model.fit(x_train, y_train, epochs=10)\n",
    "test_loss, test_acc = model.evaluate(x_test, y_test)\n",
    "print(f\"Accuracy: {test_acc * 100}\")"
   ],
   "id": "323bb2ba3b0b920b",
   "outputs": [
    {
     "name": "stdout",
     "output_type": "stream",
     "text": [
      "Epoch 1/10\n",
      "\u001B[1m1875/1875\u001B[0m \u001B[32m━━━━━━━━━━━━━━━━━━━━\u001B[0m\u001B[37m\u001B[0m \u001B[1m13s\u001B[0m 3ms/step - accuracy: 0.8563 - loss: 0.4848\n",
      "Epoch 2/10\n",
      "\u001B[1m1875/1875\u001B[0m \u001B[32m━━━━━━━━━━━━━━━━━━━━\u001B[0m\u001B[37m\u001B[0m \u001B[1m7s\u001B[0m 4ms/step - accuracy: 0.9554 - loss: 0.1503\n",
      "Epoch 3/10\n",
      "\u001B[1m1875/1875\u001B[0m \u001B[32m━━━━━━━━━━━━━━━━━━━━\u001B[0m\u001B[37m\u001B[0m \u001B[1m6s\u001B[0m 3ms/step - accuracy: 0.9680 - loss: 0.1043\n",
      "Epoch 4/10\n",
      "\u001B[1m1875/1875\u001B[0m \u001B[32m━━━━━━━━━━━━━━━━━━━━\u001B[0m\u001B[37m\u001B[0m \u001B[1m10s\u001B[0m 3ms/step - accuracy: 0.9747 - loss: 0.0841\n",
      "Epoch 5/10\n",
      "\u001B[1m1875/1875\u001B[0m \u001B[32m━━━━━━━━━━━━━━━━━━━━\u001B[0m\u001B[37m\u001B[0m \u001B[1m6s\u001B[0m 3ms/step - accuracy: 0.9781 - loss: 0.0691\n",
      "Epoch 6/10\n",
      "\u001B[1m1875/1875\u001B[0m \u001B[32m━━━━━━━━━━━━━━━━━━━━\u001B[0m\u001B[37m\u001B[0m \u001B[1m6s\u001B[0m 3ms/step - accuracy: 0.9799 - loss: 0.0636\n",
      "Epoch 7/10\n",
      "\u001B[1m1875/1875\u001B[0m \u001B[32m━━━━━━━━━━━━━━━━━━━━\u001B[0m\u001B[37m\u001B[0m \u001B[1m10s\u001B[0m 3ms/step - accuracy: 0.9833 - loss: 0.0515\n",
      "Epoch 8/10\n",
      "\u001B[1m1875/1875\u001B[0m \u001B[32m━━━━━━━━━━━━━━━━━━━━\u001B[0m\u001B[37m\u001B[0m \u001B[1m6s\u001B[0m 3ms/step - accuracy: 0.9837 - loss: 0.0508\n",
      "Epoch 9/10\n",
      "\u001B[1m1875/1875\u001B[0m \u001B[32m━━━━━━━━━━━━━━━━━━━━\u001B[0m\u001B[37m\u001B[0m \u001B[1m7s\u001B[0m 4ms/step - accuracy: 0.9850 - loss: 0.0461\n",
      "Epoch 10/10\n",
      "\u001B[1m1875/1875\u001B[0m \u001B[32m━━━━━━━━━━━━━━━━━━━━\u001B[0m\u001B[37m\u001B[0m \u001B[1m6s\u001B[0m 3ms/step - accuracy: 0.9857 - loss: 0.0421\n",
      "\u001B[1m313/313\u001B[0m \u001B[32m━━━━━━━━━━━━━━━━━━━━\u001B[0m\u001B[37m\u001B[0m \u001B[1m1s\u001B[0m 2ms/step - accuracy: 0.9766 - loss: 0.0841\n",
      "Accuracy: 98.03000092506409\n"
     ]
    }
   ],
   "execution_count": 6
  },
  {
   "metadata": {},
   "cell_type": "markdown",
   "source": [
    "## Make Predictions\n",
    "\n",
    "We will now predict the images using our model."
   ],
   "id": "875eebac7241c1e5"
  },
  {
   "metadata": {
    "ExecuteTime": {
     "end_time": "2025-02-13T04:09:59.236143Z",
     "start_time": "2025-02-13T04:09:57.043154Z"
    }
   },
   "cell_type": "code",
   "source": [
    "# choose the number of image to predicted\n",
    "img_num = 10\n",
    "\n",
    "# get the image and prediction\n",
    "predictions = model.predict(x_test)\n",
    "predicted_label = np.argmax(predictions[img_num])\n",
    "\n",
    "# make a plot of the predictions\n",
    "plt.imshow(x_test[img_num], cmap=plt.cm.binary)\n",
    "plt.title(f\"Predicted: {predicted_label}\")\n",
    "plt.show()"
   ],
   "id": "73e7e1f06fc56eeb",
   "outputs": [
    {
     "name": "stdout",
     "output_type": "stream",
     "text": [
      "\u001B[1m313/313\u001B[0m \u001B[32m━━━━━━━━━━━━━━━━━━━━\u001B[0m\u001B[37m\u001B[0m \u001B[1m1s\u001B[0m 2ms/step\n"
     ]
    },
    {
     "data": {
      "text/plain": [
       "<Figure size 640x480 with 1 Axes>"
      ],
      "image/png": "[encoded data removed]"
     },
     "metadata": {},
     "output_type": "display_data"
    }
   ],
   "execution_count": 7
  }
 ],
 "metadata": {
  "kernelspec": {
   "display_name": "Python 3",
   "language": "python",
   "name": "python3"
  },
  "language_info": {
   "codemirror_mode": {
    "name": "ipython",
    "version": 2
   },
   "file_extension": ".py",
   "mimetype": "text/x-python",
   "name": "python",
   "nbconvert_exporter": "python",
   "pygments_lexer": "ipython2",
   "version": "2.7.6"
  }
 },
 "nbformat": 4,
 "nbformat_minor": 5
}
