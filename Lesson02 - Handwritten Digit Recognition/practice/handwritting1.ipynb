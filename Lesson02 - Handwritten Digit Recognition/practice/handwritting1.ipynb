{
 "cells": [
  {
   "metadata": {},
   "cell_type": "markdown",
   "source": [
    "# Handwritten Digit Recognition using MNIST\n",
    "\n",
    "This project aims to build a simple neural network to recognize handwritten digits using the MNIST dataset.  \n",
    "MNIST is a widely used dataset in machine learning, containing 60,000 training images and 10,000 test images of handwritten digits (0-9).  \n",
    "\n",
    "### **Objectives:**\n",
    "✅ Load and preprocess the MNIST dataset  \n",
    "✅ Build a neural network model using TensorFlow and Keras  \n",
    "✅ Train the model on handwritten digits  \n",
    "✅ Evaluate its performance on unseen test data  \n",
    "✅ Make predictions on new handwritten digits  \n"
   ],
   "id": "1e63e00b7d5610d"
  },
  {
   "cell_type": "code",
   "id": "initial_id",
   "metadata": {
    "collapsed": true,
    "ExecuteTime": {
     "end_time": "2025-02-19T01:48:59.283620Z",
     "start_time": "2025-02-19T01:48:59.272133Z"
    }
   },
   "source": [
    "import tensorflow as tf\n",
    "\n",
    "from tensorflow import keras\n",
    "from tensorflow.keras.models import Sequential\n",
    "from tensorflow.keras.layers import Dense, Dropout\n",
    "\n",
    "import numpy as np\n",
    "%matplotlib inline\n",
    "import matplotlib.pyplot as plt"
   ],
   "outputs": [],
   "execution_count": 68
  },
  {
   "metadata": {},
   "cell_type": "markdown",
   "source": [
    "## Loading the MNIST Dataset\n",
    "\n",
    "The MNIST dataset consists of grayscale images of handwritten digits, each of size **28x28 pixels**.  \n",
    "It is preloaded in TensorFlow/Keras and can be accessed using `keras.datasets.mnist`.  \n",
    "\n",
    "### **Dataset Structure:**\n",
    "- `train_images`: A NumPy array of shape **(60000, 28, 28)** containing **60,000 training images**.\n",
    "- `train_labels`: A NumPy array of shape **(60000,)** containing labels (**digits 0-9**) for training images.\n",
    "- `test_images`: A NumPy array of shape **(10000, 28, 28)** containing **10,000 test images**.\n",
    "- `test_labels`: A NumPy array of shape **(10000,)** containing labels for the test images.\n"
   ],
   "id": "1e3ea47ea656c182"
  },
  {
   "metadata": {
    "ExecuteTime": {
     "end_time": "2025-02-19T01:48:59.933270Z",
     "start_time": "2025-02-19T01:48:59.348580Z"
    }
   },
   "cell_type": "code",
   "source": [
    "# Load the MNIST Dataset\n",
    "mnist = keras.datasets.mnist\n",
    "(x_train, y_train), (x_test, y_test) = mnist.load_data()\n",
    "\n",
    "# Show sample image\n",
    "img_num = 2\n",
    "plt.imshow(x_train[img_num], cmap='gray')\n",
    "print(y_train[img_num])"
   ],
   "id": "cb3c4ff4a16e8af8",
   "outputs": [
    {
     "name": "stdout",
     "output_type": "stream",
     "text": [
      "4\n"
     ]
    },
    {
     "data": {
      "text/plain": [
       "<Figure size 640x480 with 1 Axes>"
      ],
      "image/png": "[encoded data removed]"
     },
     "metadata": {},
     "output_type": "display_data"
    }
   ],
   "execution_count": 69
  },
  {
   "metadata": {},
   "cell_type": "markdown",
   "source": [
    "## **Normalization of Pixels**\n",
    "Neural networks perform better when input values are in a **small, consistent range**.  \n",
    "Moreover, since MNIST images have pixel values between **0 and 255**, we normalize \n",
    "them by dividing by **255.0**, scaling them to the range **[0,1]**:\n",
    "\n",
    "Example:\n",
    "- A pixel value of **0** (black) becomes **0.0**  \n",
    "- A pixel value of **128** (gray) becomes **0.502**  \n",
    "- A pixel value of **255** (white) becomes **1.0**   "
   ],
   "id": "fe8986e7aea9aa7f"
  },
  {
   "metadata": {
    "ExecuteTime": {
     "end_time": "2025-02-19T01:49:00.181352Z",
     "start_time": "2025-02-19T01:48:59.934868Z"
    }
   },
   "cell_type": "code",
   "source": [
    "# Normalize pixels for better training\n",
    "x_train, x_test = x_train / 255.0, x_test / 255.0\n",
    "\n",
    "# Flatten the image\n",
    "x_train_flat = x_train.reshape(len(x_train), 28*28)\n",
    "x_test_flat = x_test.reshape(len(x_test), 28*28)"
   ],
   "id": "a27e4371490effa2",
   "outputs": [],
   "execution_count": 70
  },
  {
   "metadata": {},
   "cell_type": "markdown",
   "source": [
    "## Building the Neural Network Model  \n",
    "\n",
    "To recognize handwritten digits, we need a neural network that can process the **28x28 pixel images** and classify them into one of **10 digits (0-9)**.  \n",
    "It has an input layer flatten to 1D, a hidden layer, and an output layer.\n"
   ],
   "id": "b81dde22385d5a07"
  },
  {
   "metadata": {
    "ExecuteTime": {
     "end_time": "2025-02-19T01:49:00.227354Z",
     "start_time": "2025-02-19T01:49:00.182930Z"
    }
   },
   "cell_type": "code",
   "source": [
    "# Build the model\n",
    "\n",
    "model = Sequential()\n",
    "model.add(keras.layers.Flatten(input_shape=(28, 28)))\n",
    "model.add(Dense(100, activation='relu'))\n",
    "model.add(Dense(10, activation='sigmoid'))\n"
   ],
   "id": "da0ec47e3396ea06",
   "outputs": [
    {
     "name": "stderr",
     "output_type": "stream",
     "text": [
      "D:\\PremieraAlpha\\College\\3rd_Year-Second Semester\\CS346 F2 Intelligent Systems 2\\Learn Artificial Intelligence\\myenv\\lib\\site-packages\\keras\\src\\layers\\reshaping\\flatten.py:37: UserWarning: Do not pass an `input_shape`/`input_dim` argument to a layer. When using Sequential models, prefer using an `Input(shape)` object as the first layer in the model instead.\n",
      "  super().__init__(**kwargs)\n"
     ]
    }
   ],
   "execution_count": 71
  },
  {
   "metadata": {},
   "cell_type": "markdown",
   "source": [
    "## Model Compilation\n",
    "\n",
    "Before training, we need to **compile** the model, which involves configuring how it learns. Compilation defines three key components:  \n",
    "\n",
    "1. **Optimizer (`adam`)** – Determines how the model updates its weights.  \n",
    "2. **Loss Function (`sparse_categorical_crossentropy`)** – Measures the error in predictions.  \n",
    "3. **Metrics (`accuracy`)** – Evaluates model performance during training.  \n",
    "\n",
    "\n",
    "### **Why Sparse Categorical Crossentropy as the Loss Function?**  \n",
    "Since MNIST is a **multi-class classification problem** (digits 0-9), we use **cross-entropy loss**, which measures how well the predicted probabilities match the actual labels.  \n",
    "- **`sparse_categorical_crossentropy`** is used because our labels are integers (e.g., `0, 1, 2, ...`).  \n",
    "- If labels were **one-hot encoded**, we would use `categorical_crossentropy` instead."
   ],
   "id": "ea2af24ec2568e1f"
  },
  {
   "metadata": {
    "ExecuteTime": {
     "end_time": "2025-02-19T01:49:00.259614Z",
     "start_time": "2025-02-19T01:49:00.230873Z"
    }
   },
   "cell_type": "code",
   "source": [
    "# Compile the model\n",
    "model.compile(optimizer='adam',\n",
    "              loss='sparse_categorical_crossentropy',\n",
    "              metrics=['accuracy'])"
   ],
   "id": "ae41f145464cdcec",
   "outputs": [],
   "execution_count": 72
  },
  {
   "metadata": {},
   "cell_type": "markdown",
   "source": [
    "## Train and Evaluate the Model\n",
    "\n",
    "We will train our model through 5 epochs and evaluate it accordingly."
   ],
   "id": "1971aa73fc0af2e8"
  },
  {
   "metadata": {
    "ExecuteTime": {
     "end_time": "2025-02-19T01:50:06.315160Z",
     "start_time": "2025-02-19T01:49:00.261241Z"
    }
   },
   "cell_type": "code",
   "source": [
    "model.fit(x_train, y_train, epochs=10)\n",
    "test_loss, test_acc = model.evaluate(x_test, y_test)\n",
    "print(f\"Accuracy: {test_acc * 100}\")"
   ],
   "id": "323bb2ba3b0b920b",
   "outputs": [
    {
     "name": "stdout",
     "output_type": "stream",
     "text": [
      "Epoch 1/10\n",
      "\u001B[1m1875/1875\u001B[0m \u001B[32m━━━━━━━━━━━━━━━━━━━━\u001B[0m\u001B[37m\u001B[0m \u001B[1m5s\u001B[0m 3ms/step - accuracy: 0.8761 - loss: 0.4564\n",
      "Epoch 2/10\n",
      "\u001B[1m1875/1875\u001B[0m \u001B[32m━━━━━━━━━━━━━━━━━━━━\u001B[0m\u001B[37m\u001B[0m \u001B[1m5s\u001B[0m 3ms/step - accuracy: 0.9618 - loss: 0.1299\n",
      "Epoch 3/10\n",
      "\u001B[1m1875/1875\u001B[0m \u001B[32m━━━━━━━━━━━━━━━━━━━━\u001B[0m\u001B[37m\u001B[0m \u001B[1m10s\u001B[0m 3ms/step - accuracy: 0.9761 - loss: 0.0839\n",
      "Epoch 4/10\n",
      "\u001B[1m1875/1875\u001B[0m \u001B[32m━━━━━━━━━━━━━━━━━━━━\u001B[0m\u001B[37m\u001B[0m \u001B[1m5s\u001B[0m 3ms/step - accuracy: 0.9819 - loss: 0.0612\n",
      "Epoch 5/10\n",
      "\u001B[1m1875/1875\u001B[0m \u001B[32m━━━━━━━━━━━━━━━━━━━━\u001B[0m\u001B[37m\u001B[0m \u001B[1m5s\u001B[0m 3ms/step - accuracy: 0.9850 - loss: 0.0480\n",
      "Epoch 6/10\n",
      "\u001B[1m1875/1875\u001B[0m \u001B[32m━━━━━━━━━━━━━━━━━━━━\u001B[0m\u001B[37m\u001B[0m \u001B[1m6s\u001B[0m 3ms/step - accuracy: 0.9888 - loss: 0.0371\n",
      "Epoch 7/10\n",
      "\u001B[1m1875/1875\u001B[0m \u001B[32m━━━━━━━━━━━━━━━━━━━━\u001B[0m\u001B[37m\u001B[0m \u001B[1m6s\u001B[0m 3ms/step - accuracy: 0.9899 - loss: 0.0320\n",
      "Epoch 8/10\n",
      "\u001B[1m1875/1875\u001B[0m \u001B[32m━━━━━━━━━━━━━━━━━━━━\u001B[0m\u001B[37m\u001B[0m \u001B[1m6s\u001B[0m 3ms/step - accuracy: 0.9933 - loss: 0.0230\n",
      "Epoch 9/10\n",
      "\u001B[1m1875/1875\u001B[0m \u001B[32m━━━━━━━━━━━━━━━━━━━━\u001B[0m\u001B[37m\u001B[0m \u001B[1m10s\u001B[0m 3ms/step - accuracy: 0.9936 - loss: 0.0203\n",
      "Epoch 10/10\n",
      "\u001B[1m1875/1875\u001B[0m \u001B[32m━━━━━━━━━━━━━━━━━━━━\u001B[0m\u001B[37m\u001B[0m \u001B[1m6s\u001B[0m 3ms/step - accuracy: 0.9953 - loss: 0.0161\n",
      "\u001B[1m313/313\u001B[0m \u001B[32m━━━━━━━━━━━━━━━━━━━━\u001B[0m\u001B[37m\u001B[0m \u001B[1m1s\u001B[0m 2ms/step - accuracy: 0.9735 - loss: 0.0981\n",
      "Accuracy: 97.82000184059143\n"
     ]
    }
   ],
   "execution_count": 73
  },
  {
   "metadata": {},
   "cell_type": "markdown",
   "source": [
    "## Make Predictions\n",
    "\n",
    "We will now predict the images using our model."
   ],
   "id": "875eebac7241c1e5"
  },
  {
   "metadata": {
    "ExecuteTime": {
     "end_time": "2025-02-19T01:50:07.213014Z",
     "start_time": "2025-02-19T01:50:06.317772Z"
    }
   },
   "cell_type": "code",
   "source": [
    "# choose the number of image to predicted\n",
    "img_num = 0\n",
    "\n",
    "# get the image and prediction\n",
    "predictions = model.predict(x_test)\n",
    "predicted_label = np.argmax(predictions[img_num])\n",
    "\n",
    "# get all predicted labels\n",
    "predicted_labels = [np.argmax(i) for i in predictions]\n",
    "\n",
    "# make a plot of the predictions\n",
    "plt.imshow(x_test[img_num], cmap=plt.cm.binary)\n",
    "plt.title(f\"Predicted: {predicted_label}\")\n",
    "plt.show()"
   ],
   "id": "73e7e1f06fc56eeb",
   "outputs": [
    {
     "name": "stdout",
     "output_type": "stream",
     "text": [
      "\u001B[1m313/313\u001B[0m \u001B[32m━━━━━━━━━━━━━━━━━━━━\u001B[0m\u001B[37m\u001B[0m \u001B[1m1s\u001B[0m 2ms/step\n"
     ]
    },
    {
     "data": {
      "text/plain": [
       "<Figure size 640x480 with 1 Axes>"
      ],
      "image/png": "[encoded data removed]"
     },
     "metadata": {},
     "output_type": "display_data"
    }
   ],
   "execution_count": 74
  },
  {
   "metadata": {},
   "cell_type": "markdown",
   "source": [
    "## Show Report of the Predictions\n",
    "\n",
    "This code generates a **confusion matrix** to evaluate the model’s performance. It compares true labels (`y_test`) \n",
    "with predicted labels (`predicted_labels`) and visualizes the results using a **Seaborn heatmap**. \n",
    "The matrix helps identify correct and incorrect predictions.\n"
   ],
   "id": "57de18408fb633fe"
  },
  {
   "metadata": {
    "ExecuteTime": {
     "end_time": "2025-02-26T00:33:30.471860Z",
     "start_time": "2025-02-26T00:33:30.007222Z"
    }
   },
   "cell_type": "code",
   "source": [
    "import seaborn as sn\n",
    "\n",
    "confusion_matrix = tf.math.confusion_matrix(labels=y_test, predictions=predicted_labels)\n",
    "plt.figure(figsize=(10,7))\n",
    "sn.heatmap(confusion_matrix, annot=True, fmt='d')\n",
    "plt.xlabel('Predicted')\n",
    "plt.ylabel('Truth')"
   ],
   "id": "40dbef2b1835652c",
   "outputs": [
    {
     "ename": "NameError",
     "evalue": "name 'tf' is not defined",
     "output_type": "error",
     "traceback": [
      "\u001B[1;31m---------------------------------------------------------------------------\u001B[0m",
      "\u001B[1;31mNameError\u001B[0m                                 Traceback (most recent call last)",
      "Cell \u001B[1;32mIn[1], line 3\u001B[0m\n\u001B[0;32m      1\u001B[0m \u001B[38;5;28;01mimport\u001B[39;00m\u001B[38;5;250m \u001B[39m\u001B[38;5;21;01mseaborn\u001B[39;00m\u001B[38;5;250m \u001B[39m\u001B[38;5;28;01mas\u001B[39;00m\u001B[38;5;250m \u001B[39m\u001B[38;5;21;01msn\u001B[39;00m\n\u001B[1;32m----> 3\u001B[0m confusion_matrix \u001B[38;5;241m=\u001B[39m \u001B[43mtf\u001B[49m\u001B[38;5;241m.\u001B[39mmath\u001B[38;5;241m.\u001B[39mconfusion_matrix(labels\u001B[38;5;241m=\u001B[39my_test, predictions\u001B[38;5;241m=\u001B[39mpredicted_labels)\n\u001B[0;32m      4\u001B[0m plt\u001B[38;5;241m.\u001B[39mfigure(figsize\u001B[38;5;241m=\u001B[39m(\u001B[38;5;241m10\u001B[39m,\u001B[38;5;241m7\u001B[39m))\n\u001B[0;32m      5\u001B[0m sn\u001B[38;5;241m.\u001B[39mheatmap(confusion_matrix, annot\u001B[38;5;241m=\u001B[39m\u001B[38;5;28;01mTrue\u001B[39;00m, fmt\u001B[38;5;241m=\u001B[39m\u001B[38;5;124m'\u001B[39m\u001B[38;5;124md\u001B[39m\u001B[38;5;124m'\u001B[39m)\n",
      "\u001B[1;31mNameError\u001B[0m: name 'tf' is not defined"
     ]
    }
   ],
   "execution_count": 1
  },
  {
   "metadata": {},
   "cell_type": "code",
   "outputs": [],
   "execution_count": null,
   "source": "",
   "id": "f0ce3ed25fea18a6"
  }
 ],
 "metadata": {
  "kernelspec": {
   "display_name": "Python (myenv)",
   "language": "python",
   "name": "myenv"
  },
  "language_info": {
   "codemirror_mode": {
    "name": "ipython",
    "version": 2
   },
   "file_extension": ".py",
   "mimetype": "text/x-python",
   "name": "python",
   "nbconvert_exporter": "python",
   "pygments_lexer": "ipython2",
   "version": "2.7.6"
  }
 },
 "nbformat": 4,
 "nbformat_minor": 5
}
