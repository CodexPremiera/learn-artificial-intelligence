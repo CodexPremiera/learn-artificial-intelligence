{
 "cells": [
  {
   "metadata": {},
   "cell_type": "markdown",
   "source": [
    "# Understanding Convolutional Neural Networks (CNNs)\n",
    "\n",
    "## What is a Convolutional Neural Network?\n",
    "A **Convolutional Neural Network (CNN)** is a type of deep learning model designed to process images, videos, and other grid-like data. It is commonly used in tasks like image recognition, object detection, and facial recognition.\n",
    "\n",
    "### Key Components of a CNN\n",
    "\n",
    "- **Key-Frames**: A **key-frame** is an important frame in a sequence (like in videos) that captures significant visual information. In CNNs, images are treated like key-frames, where important features are extracted for recognition.\n",
    "\n",
    "- **Filters (Kernels)**: A **filter** (also called a kernel) is a small matrix that moves across an image to detect specific patterns, such as edges, textures, or shapes. Filters help identify important features of an image without considering unnecessary details.\n",
    "  \n",
    "  For example, a **3x3 filter** can detect vertical edges by scanning small parts of an image and emphasizing patterns.\n",
    "\n",
    "- **Feature Extraction**: Feature extraction is the process of identifying key characteristics of an image, such as edges, corners, or textures. When a filter moves across an image, it produces a **feature map** that highlights important structures.\n",
    "  \n",
    "  This process helps CNNs recognize objects regardless of their position, size, or lighting conditions.\n",
    "\n",
    "- **Max-Pooling**: **Max-pooling** is a technique used to reduce the size of the feature map while keeping the most important information. It works by taking the **maximum value** from small regions of the image, making the network more efficient and less sensitive to slight changes in position.\n",
    "  \n",
    "  For example, in a **2x2 max-pooling**, the highest value in a 2x2 section is retained, and the rest are discarded. This helps reduce computational cost while preserving essential features.\n",
    "\n",
    "### How CNNs Work Step by Step\n",
    "1. **Input Layer** – The image is provided as input.\n",
    "2. **Convolutional Layers** – Filters scan the image to detect patterns and extract features.\n",
    "3. **ReLU Activation** – Negative values are removed to introduce non-linearity.\n",
    "4. **Pooling Layer** – Max-pooling reduces the feature map size while retaining important information.\n",
    "5. **Fully Connected Layer** – The extracted features are used to make predictions.\n",
    "6. **Output Layer** – The final prediction is made (e.g., identifying a cat or dog).\n",
    "\n",
    "### Why Are CNNs Powerful?\n",
    "- **Automatically learn features** – No need for manual feature selection.\n",
    "- **Recognize patterns anywhere in an image** – Useful for object detection.\n",
    "- **Reduce computational cost** – Max-pooling helps simplify data.\n",
    "\n",
    "CNNs have revolutionized fields like medical imaging, self-driving cars, and facial recognition. By understanding filters, feature extraction, and pooling, you can start exploring deep learning applications!\n",
    "\n"
   ],
   "id": "774af8d8265518e6"
  },
  {
   "metadata": {
    "ExecuteTime": {
     "end_time": "2025-02-26T01:04:40.218359Z",
     "start_time": "2025-02-26T01:04:40.197341Z"
    }
   },
   "cell_type": "code",
   "source": [
    "import tensorflow as tf\n",
    "\n",
    "from tensorflow import keras\n",
    "from tensorflow.keras import datasets, layers, models\n",
    "\n",
    "import numpy as np\n",
    "%matplotlib inline\n",
    "import matplotlib.pyplot as plt\n"
   ],
   "id": "3ce2546e7a360d23",
   "outputs": [],
   "execution_count": 7
  },
  {
   "metadata": {},
   "cell_type": "markdown",
   "source": "## Load Data ",
   "id": "ebc154b473f400a0"
  },
  {
   "metadata": {
    "ExecuteTime": {
     "end_time": "2025-02-26T01:17:19.309386Z",
     "start_time": "2025-02-26T01:04:40.224800Z"
    }
   },
   "cell_type": "code",
   "source": [
    "(x_train, y_train), (x_test, y_test) = datasets.cifar10.load_data()\n",
    "x_train.shape"
   ],
   "id": "a503e79f2bfe6f93",
   "outputs": [
    {
     "name": "stdout",
     "output_type": "stream",
     "text": [
      "Downloading data from https://www.cs.toronto.edu/~kriz/cifar-10-python.tar.gz\n",
      "\u001B[1m170498071/170498071\u001B[0m \u001B[32m━━━━━━━━━━━━━━━━━━━━\u001B[0m\u001B[37m\u001B[0m \u001B[1m751s\u001B[0m 4us/step\n"
     ]
    },
    {
     "data": {
      "text/plain": [
       "(50000, 32, 32, 3)"
      ]
     },
     "execution_count": 8,
     "metadata": {},
     "output_type": "execute_result"
    }
   ],
   "execution_count": 8
  },
  {
   "metadata": {
    "ExecuteTime": {
     "end_time": "2025-02-26T01:24:17.176606Z",
     "start_time": "2025-02-26T01:24:17.002073Z"
    }
   },
   "cell_type": "code",
   "source": [
    "# Show sample image\n",
    "img_num = 2\n",
    "plt.imshow(x_train[img_num])\n",
    "print(y_train[img_num])\n",
    "\n",
    "# Reshape the Data\n",
    "y_train = y_train.reshape(-1,)\n",
    "y_test = y_test.reshape(-1,)"
   ],
   "id": "4e920f2d98ad6b92",
   "outputs": [
    {
     "name": "stdout",
     "output_type": "stream",
     "text": [
      "[9]\n"
     ]
    },
    {
     "data": {
      "text/plain": [
       "<Figure size 640x480 with 1 Axes>"
      ],
      "image/png": "[encoded data removed]"
     },
     "metadata": {},
     "output_type": "display_data"
    }
   ],
   "execution_count": 10
  },
  {
   "metadata": {
    "ExecuteTime": {
     "end_time": "2025-02-26T01:24:22.712220Z",
     "start_time": "2025-02-26T01:24:21.824504Z"
    }
   },
   "cell_type": "code",
   "source": [
    "# Define the classes for the y-labels\n",
    "classes = ['airplane', 'automobile', 'bird', 'cat', 'deer', 'dog', 'frog', 'horse', 'ship', 'truck']\n",
    "\n",
    "def plot_sample(x, y, index):\n",
    "    plt.figure(figsize=(15,2))\n",
    "    plt.imshow(x[index])\n",
    "    plt.xlabel(classes[y[index]])\n",
    "\n",
    "plot_sample(x_train, y_train, 3)\n",
    "\n",
    "# Normalize the images\n",
    "x_train = x_train / 255.0\n",
    "x_test = x_test / 255.0\n"
   ],
   "id": "a716625bd5dd051",
   "outputs": [
    {
     "data": {
      "text/plain": [
       "<Figure size 1500x200 with 1 Axes>"
      ],
      "image/png": "[encoded data removed]"
     },
     "metadata": {},
     "output_type": "display_data"
    }
   ],
   "execution_count": 11
  },
  {
   "metadata": {},
   "cell_type": "markdown",
   "source": "## Make a Simple Neural Network",
   "id": "d3cb21535acf0e66"
  },
  {
   "metadata": {
    "ExecuteTime": {
     "end_time": "2025-02-26T01:30:39.034512Z",
     "start_time": "2025-02-26T01:24:48.326352Z"
    }
   },
   "cell_type": "code",
   "source": [
    "# Build a simple Neural Network\n",
    "ann = models.Sequential([\n",
    "    layers.Flatten(input_shape=(32,32, 3)),\n",
    "    layers.Dense(3000, activation='relu'),\n",
    "    layers.Dense(1000, activation='relu'),\n",
    "    layers.Dense(10, activation='softmax'),\n",
    "])\n",
    "\n",
    "ann.compile(optimizer='SGD',\n",
    "            loss='sparse_categorical_crossentropy',\n",
    "            metrics=['accuracy'])\n",
    "\n",
    "ann.fit(x_train, y_train, epochs=5)"
   ],
   "id": "c4b9d1a547629cc4",
   "outputs": [
    {
     "name": "stderr",
     "output_type": "stream",
     "text": [
      "D:\\PremieraAlpha\\College\\3rd_Year-Second Semester\\CS346 F2 Intelligent Systems 2\\Learn Artificial Intelligence\\myenv\\lib\\site-packages\\keras\\src\\layers\\reshaping\\flatten.py:37: UserWarning: Do not pass an `input_shape`/`input_dim` argument to a layer. When using Sequential models, prefer using an `Input(shape)` object as the first layer in the model instead.\n",
      "  super().__init__(**kwargs)\n"
     ]
    },
    {
     "name": "stdout",
     "output_type": "stream",
     "text": [
      "Epoch 1/5\n",
      "\u001B[1m1563/1563\u001B[0m \u001B[32m━━━━━━━━━━━━━━━━━━━━\u001B[0m\u001B[37m\u001B[0m \u001B[1m65s\u001B[0m 40ms/step - accuracy: 0.3028 - loss: 1.9288\n",
      "Epoch 2/5\n",
      "\u001B[1m1563/1563\u001B[0m \u001B[32m━━━━━━━━━━━━━━━━━━━━\u001B[0m\u001B[37m\u001B[0m \u001B[1m71s\u001B[0m 45ms/step - accuracy: 0.4148 - loss: 1.6558\n",
      "Epoch 3/5\n",
      "\u001B[1m1563/1563\u001B[0m \u001B[32m━━━━━━━━━━━━━━━━━━━━\u001B[0m\u001B[37m\u001B[0m \u001B[1m71s\u001B[0m 45ms/step - accuracy: 0.4500 - loss: 1.5617\n",
      "Epoch 4/5\n",
      "\u001B[1m1563/1563\u001B[0m \u001B[32m━━━━━━━━━━━━━━━━━━━━\u001B[0m\u001B[37m\u001B[0m \u001B[1m69s\u001B[0m 44ms/step - accuracy: 0.4695 - loss: 1.4976\n",
      "Epoch 5/5\n",
      "\u001B[1m1563/1563\u001B[0m \u001B[32m━━━━━━━━━━━━━━━━━━━━\u001B[0m\u001B[37m\u001B[0m \u001B[1m71s\u001B[0m 46ms/step - accuracy: 0.4967 - loss: 1.4388\n"
     ]
    },
    {
     "data": {
      "text/plain": [
       "<keras.src.callbacks.history.History at 0x1e3800d9f00>"
      ]
     },
     "execution_count": 12,
     "metadata": {},
     "output_type": "execute_result"
    }
   ],
   "execution_count": 12
  },
  {
   "metadata": {
    "ExecuteTime": {
     "end_time": "2025-02-26T01:48:09.733499Z",
     "start_time": "2025-02-26T01:48:03.469908Z"
    }
   },
   "cell_type": "code",
   "source": [
    "from sklearn.metrics import confusion_matrix, classification_report\n",
    "import numpy as np\n",
    "\n",
    "y_pred = ann.predict(x_test)\n",
    "y_pred_classes = [np.argmax(element) for element in y_pred]\n",
    "\n",
    "print(\"Classification Report: \\n\", classification_report(y_test, y_pred_classes))"
   ],
   "id": "6c889e6a2a21a50f",
   "outputs": [
    {
     "name": "stdout",
     "output_type": "stream",
     "text": [
      "\u001B[1m313/313\u001B[0m \u001B[32m━━━━━━━━━━━━━━━━━━━━\u001B[0m\u001B[37m\u001B[0m \u001B[1m5s\u001B[0m 14ms/step\n",
      "Classification Report: \n",
      "               precision    recall  f1-score   support\n",
      "\n",
      "           0       0.67      0.39      0.49      1000\n",
      "           1       0.70      0.51      0.59      1000\n",
      "           2       0.48      0.15      0.23      1000\n",
      "           3       0.33      0.37      0.35      1000\n",
      "           4       0.40      0.45      0.42      1000\n",
      "           5       0.49      0.24      0.32      1000\n",
      "           6       0.36      0.78      0.49      1000\n",
      "           7       0.48      0.61      0.54      1000\n",
      "           8       0.49      0.75      0.59      1000\n",
      "           9       0.65      0.45      0.53      1000\n",
      "\n",
      "    accuracy                           0.47     10000\n",
      "   macro avg       0.50      0.47      0.46     10000\n",
      "weighted avg       0.50      0.47      0.46     10000\n",
      "\n"
     ]
    }
   ],
   "execution_count": 16
  },
  {
   "metadata": {},
   "cell_type": "markdown",
   "source": "## Make a Convolutional Neural Network",
   "id": "a9411847bff40d25"
  },
  {
   "metadata": {
    "ExecuteTime": {
     "end_time": "2025-02-26T01:45:25.743104Z",
     "start_time": "2025-02-26T01:40:25.624140Z"
    }
   },
   "cell_type": "code",
   "source": [
    "# Build a Convolutional Neural Networks\n",
    "cnn = models.Sequential([\n",
    "    layers.Conv2D(filters=32, kernel_size=(3, 3), activation='relu', input_shape=(32, 32, 3)),\n",
    "    layers.MaxPooling2D((2,2)),\n",
    "    \n",
    "    layers.Conv2D(filters=64, kernel_size=(3, 3), activation='relu'),\n",
    "    layers.MaxPooling2D((2,2)),\n",
    "    \n",
    "    layers.Flatten(),\n",
    "    layers.Dense(64, activation='relu'),\n",
    "    layers.Dense(10, activation='softmax')\n",
    "])\n",
    "\n",
    "cnn.compile(optimizer='adam',\n",
    "            loss='sparse_categorical_crossentropy',\n",
    "            metrics=['accuracy'])\n",
    "\n",
    "cnn.fit(x_train, y_train, epochs=10)"
   ],
   "id": "5eb521b804cc8dea",
   "outputs": [
    {
     "name": "stderr",
     "output_type": "stream",
     "text": [
      "D:\\PremieraAlpha\\College\\3rd_Year-Second Semester\\CS346 F2 Intelligent Systems 2\\Learn Artificial Intelligence\\myenv\\lib\\site-packages\\keras\\src\\layers\\convolutional\\base_conv.py:107: UserWarning: Do not pass an `input_shape`/`input_dim` argument to a layer. When using Sequential models, prefer using an `Input(shape)` object as the first layer in the model instead.\n",
      "  super().__init__(activity_regularizer=activity_regularizer, **kwargs)\n"
     ]
    },
    {
     "name": "stdout",
     "output_type": "stream",
     "text": [
      "Epoch 1/10\n",
      "\u001B[1m1563/1563\u001B[0m \u001B[32m━━━━━━━━━━━━━━━━━━━━\u001B[0m\u001B[37m\u001B[0m \u001B[1m24s\u001B[0m 14ms/step - accuracy: 0.3724 - loss: 1.7281\n",
      "Epoch 2/10\n",
      "\u001B[1m1563/1563\u001B[0m \u001B[32m━━━━━━━━━━━━━━━━━━━━\u001B[0m\u001B[37m\u001B[0m \u001B[1m22s\u001B[0m 14ms/step - accuracy: 0.5951 - loss: 1.1499\n",
      "Epoch 3/10\n",
      "\u001B[1m1563/1563\u001B[0m \u001B[32m━━━━━━━━━━━━━━━━━━━━\u001B[0m\u001B[37m\u001B[0m \u001B[1m40s\u001B[0m 14ms/step - accuracy: 0.6518 - loss: 0.9960\n",
      "Epoch 4/10\n",
      "\u001B[1m1563/1563\u001B[0m \u001B[32m━━━━━━━━━━━━━━━━━━━━\u001B[0m\u001B[37m\u001B[0m \u001B[1m21s\u001B[0m 14ms/step - accuracy: 0.6902 - loss: 0.8997\n",
      "Epoch 5/10\n",
      "\u001B[1m1563/1563\u001B[0m \u001B[32m━━━━━━━━━━━━━━━━━━━━\u001B[0m\u001B[37m\u001B[0m \u001B[1m22s\u001B[0m 14ms/step - accuracy: 0.7074 - loss: 0.8423\n",
      "Epoch 6/10\n",
      "\u001B[1m1563/1563\u001B[0m \u001B[32m━━━━━━━━━━━━━━━━━━━━\u001B[0m\u001B[37m\u001B[0m \u001B[1m41s\u001B[0m 14ms/step - accuracy: 0.7324 - loss: 0.7812\n",
      "Epoch 7/10\n",
      "\u001B[1m1563/1563\u001B[0m \u001B[32m━━━━━━━━━━━━━━━━━━━━\u001B[0m\u001B[37m\u001B[0m \u001B[1m22s\u001B[0m 14ms/step - accuracy: 0.7444 - loss: 0.7383\n",
      "Epoch 8/10\n",
      "\u001B[1m1563/1563\u001B[0m \u001B[32m━━━━━━━━━━━━━━━━━━━━\u001B[0m\u001B[37m\u001B[0m \u001B[1m24s\u001B[0m 15ms/step - accuracy: 0.7563 - loss: 0.7020\n",
      "Epoch 9/10\n",
      "\u001B[1m1563/1563\u001B[0m \u001B[32m━━━━━━━━━━━━━━━━━━━━\u001B[0m\u001B[37m\u001B[0m \u001B[1m43s\u001B[0m 16ms/step - accuracy: 0.7713 - loss: 0.6607\n",
      "Epoch 10/10\n",
      "\u001B[1m1563/1563\u001B[0m \u001B[32m━━━━━━━━━━━━━━━━━━━━\u001B[0m\u001B[37m\u001B[0m \u001B[1m40s\u001B[0m 15ms/step - accuracy: 0.7817 - loss: 0.6254\n"
     ]
    },
    {
     "data": {
      "text/plain": [
       "<keras.src.callbacks.history.History at 0x1e382b3a260>"
      ]
     },
     "execution_count": 15,
     "metadata": {},
     "output_type": "execute_result"
    }
   ],
   "execution_count": 15
  },
  {
   "metadata": {
    "ExecuteTime": {
     "end_time": "2025-02-26T01:52:45.936892Z",
     "start_time": "2025-02-26T01:52:43.621252Z"
    }
   },
   "cell_type": "code",
   "source": [
    "y_pred = cnn.predict(x_test)\n",
    "y_pred_classes = [np.argmax(element) for element in y_pred]\n",
    "\n",
    "print(\"Classification Report: \\n\", classification_report(y_test, y_pred_classes))"
   ],
   "id": "4c59b591b7752e01",
   "outputs": [
    {
     "name": "stdout",
     "output_type": "stream",
     "text": [
      "\u001B[1m313/313\u001B[0m \u001B[32m━━━━━━━━━━━━━━━━━━━━\u001B[0m\u001B[37m\u001B[0m \u001B[1m2s\u001B[0m 6ms/step\n",
      "Classification Report: \n",
      "               precision    recall  f1-score   support\n",
      "\n",
      "           0       0.73      0.74      0.74      1000\n",
      "           1       0.85      0.80      0.82      1000\n",
      "           2       0.66      0.52      0.58      1000\n",
      "           3       0.51      0.51      0.51      1000\n",
      "           4       0.52      0.73      0.61      1000\n",
      "           5       0.58      0.66      0.61      1000\n",
      "           6       0.84      0.68      0.75      1000\n",
      "           7       0.72      0.79      0.75      1000\n",
      "           8       0.85      0.76      0.80      1000\n",
      "           9       0.83      0.75      0.79      1000\n",
      "\n",
      "    accuracy                           0.69     10000\n",
      "   macro avg       0.71      0.69      0.70     10000\n",
      "weighted avg       0.71      0.69      0.70     10000\n",
      "\n"
     ]
    }
   ],
   "execution_count": 18
  }
 ],
 "metadata": {
  "kernelspec": {
   "display_name": "Python 3",
   "language": "python",
   "name": "python3"
  },
  "language_info": {
   "codemirror_mode": {
    "name": "ipython",
    "version": 2
   },
   "file_extension": ".py",
   "mimetype": "text/x-python",
   "name": "python",
   "nbconvert_exporter": "python",
   "pygments_lexer": "ipython2",
   "version": "2.7.6"
  }
 },
 "nbformat": 4,
 "nbformat_minor": 5
}
